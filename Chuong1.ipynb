{
  "nbformat": 4,
  "nbformat_minor": 0,
  "metadata": {
    "colab": {
      "name": "Chuong1.ipynb",
      "provenance": [],
      "authorship_tag": "ABX9TyMooCK3uCq85nLfrVKnUMHC",
      "include_colab_link": true
    },
    "kernelspec": {
      "name": "python3",
      "display_name": "Python 3"
    },
    "language_info": {
      "name": "python"
    }
  },
  "cells": [
    {
      "cell_type": "markdown",
      "metadata": {
        "id": "view-in-github",
        "colab_type": "text"
      },
      "source": [
        "<a href=\"https://colab.research.google.com/github/VoHungPhong/THtoancaocap/blob/main/Chuong1.ipynb\" target=\"_parent\"><img src=\"https://colab.research.google.com/assets/colab-badge.svg\" alt=\"Open In Colab\"/></a>"
      ]
    },
    {
      "cell_type": "code",
      "execution_count": null,
      "metadata": {
        "colab": {
          "base_uri": "https://localhost:8080/"
        },
        "id": "P2-q1j5WpzOo",
        "outputId": "8f98a462-b2c8-427e-84db-5813c379a0c7"
      },
      "outputs": [
        {
          "output_type": "stream",
          "name": "stdout",
          "text": [
            "hello\n"
          ]
        }
      ],
      "source": [
        "print(\"hello\")"
      ]
    },
    {
      "cell_type": "code",
      "source": [
        ""
      ],
      "metadata": {
        "id": "7ZeXc4Ucv9HQ"
      },
      "execution_count": null,
      "outputs": []
    },
    {
      "cell_type": "markdown",
      "source": [
        "#Bai1"
      ],
      "metadata": {
        "id": "2BtbteKOxOlC"
      }
    },
    {
      "cell_type": "code",
      "source": [
        ""
      ],
      "metadata": {
        "id": "l5QSgpp9_mha"
      },
      "execution_count": null,
      "outputs": []
    },
    {
      "cell_type": "code",
      "source": [
        "N=5\n",
        "dayS=[1/2**k for k in range(0,N)]\n"
      ],
      "metadata": {
        "id": "Iyb4pcxnxVNd"
      },
      "execution_count": null,
      "outputs": []
    },
    {
      "cell_type": "code",
      "source": [
        "len(dayS)"
      ],
      "metadata": {
        "id": "K34OKVHDyF6q"
      },
      "execution_count": null,
      "outputs": []
    },
    {
      "cell_type": "code",
      "source": [
        "sum(dayS)"
      ],
      "metadata": {
        "id": "m7cUnT2DyP01"
      },
      "execution_count": null,
      "outputs": []
    },
    {
      "cell_type": "code",
      "source": [
        "n=1000\n",
        "X= [(2-0)*k/n for k in  range(0,n+1)]\n",
        "print(X)"
      ],
      "metadata": {
        "id": "-V8EXiKb2TtB"
      },
      "execution_count": null,
      "outputs": []
    },
    {
      "cell_type": "code",
      "source": [
        "S=0\n",
        "for k in range(1,n+1):\n",
        "  S=S+X[k]**2 * (X[k] - X[k-1])\n",
        "  print(S)\n"
      ],
      "metadata": {
        "id": "tIfy1AN92xvI"
      },
      "execution_count": null,
      "outputs": []
    },
    {
      "cell_type": "markdown",
      "source": [
        ""
      ],
      "metadata": {
        "id": "NNdtRmILv-9p"
      }
    },
    {
      "cell_type": "code",
      "source": [
        "  from sympy import limit , Symbol , S\n",
        "  x = Symbol ('x')\n",
        "  limit(1/x, x, 0,dir='-').doit()"
      ],
      "metadata": {
        "colab": {
          "base_uri": "https://localhost:8080/",
          "height": 37
        },
        "id": "LgmQNcPiv-Pc",
        "outputId": "7a2d8463-367e-4182-b0d7-4450f0de7db2"
      },
      "execution_count": 8,
      "outputs": [
        {
          "output_type": "execute_result",
          "data": {
            "text/latex": "$\\displaystyle -\\infty$",
            "text/plain": [
              "-oo"
            ]
          },
          "metadata": {},
          "execution_count": 8
        }
      ]
    },
    {
      "cell_type": "code",
      "source": [
        "  from sympy import Limit , Symbol , S\n",
        "  x = Symbol ('x')\n",
        "  Limit(1/x, x, 0,dir='+').doit()"
      ],
      "metadata": {
        "colab": {
          "base_uri": "https://localhost:8080/",
          "height": 37
        },
        "id": "DmiuYlg2zNqz",
        "outputId": "af875305-4005-415e-f195-0af0566b055f"
      },
      "execution_count": 12,
      "outputs": [
        {
          "output_type": "execute_result",
          "data": {
            "text/latex": "$\\displaystyle \\infty$",
            "text/plain": [
              "oo"
            ]
          },
          "metadata": {},
          "execution_count": 12
        }
      ]
    },
    {
      "cell_type": "code",
      "source": [
        "  from sympy import Limit , Symbol , sin\n",
        "  x = Symbol ('x')\n",
        "  Limit(sin(x)/x, x, 0,).doit()"
      ],
      "metadata": {
        "colab": {
          "base_uri": "https://localhost:8080/",
          "height": 37
        },
        "id": "CCY4VszxzxZS",
        "outputId": "0a5576f2-e11b-48a2-da03-11458427fd4a"
      },
      "execution_count": 14,
      "outputs": [
        {
          "output_type": "execute_result",
          "data": {
            "text/latex": "$\\displaystyle 1$",
            "text/plain": [
              "1"
            ]
          },
          "metadata": {},
          "execution_count": 14
        }
      ]
    },
    {
      "cell_type": "code",
      "source": [
        "  from sympy import Limit , Symbol , sin , S\n",
        "  x = Symbol ('x')\n",
        "  Limit(x*sin(1/x), x, S.Infinity)"
      ],
      "metadata": {
        "colab": {
          "base_uri": "https://localhost:8080/",
          "height": 58
        },
        "id": "RPaOtSXv2NTA",
        "outputId": "9c3f3ec6-7fd9-4644-ba55-8417ad1811e8"
      },
      "execution_count": 15,
      "outputs": [
        {
          "output_type": "execute_result",
          "data": {
            "text/latex": "$\\displaystyle \\lim_{x \\to \\infty}\\left(x \\sin{\\left(\\frac{1}{x} \\right)}\\right)$",
            "text/plain": [
              "Limit(x*sin(1/x), x, oo, dir='-')"
            ]
          },
          "metadata": {},
          "execution_count": 15
        }
      ]
    },
    {
      "cell_type": "code",
      "source": [
        "  from sympy import Limit , Symbol \n",
        "  t = Symbol ('t')\n",
        "  St=5*t**2+2*t+8\n",
        "  t1= Symbol ('t')\n",
        "  delta_t = Symbol('delta_t')\n",
        "  St1= St.subs({t: t1})\n",
        "  St1_delta = St.subs({t: t1 + delta_t})"
      ],
      "metadata": {
        "id": "9H-d-RUoBzz1"
      },
      "execution_count": 17,
      "outputs": []
    },
    {
      "cell_type": "code",
      "source": [
        "from sympy import Symbol,Limit,S\n",
        "p = Symbol('p',positive=True)\n",
        "r = Symbol('r',positive=True)\n",
        "t = Symbol('t',positive=True)\n",
        "n = Symbol('n',positive=True)\n",
        "Limit(p*(1+r/n)**(n*t), n, S.Infinity).doit()\n"
      ],
      "metadata": {
        "id": "OG7qdzknEJ42",
        "outputId": "9c4cedb8-481e-4170-cd8e-c6c4732f9358",
        "colab": {
          "base_uri": "https://localhost:8080/",
          "height": 38
        }
      },
      "execution_count": 25,
      "outputs": [
        {
          "output_type": "execute_result",
          "data": {
            "text/latex": "$\\displaystyle p e^{r t}$",
            "text/plain": [
              "p*exp(r*t)"
            ]
          },
          "metadata": {},
          "execution_count": 25
        }
      ]
    }
  ]
}