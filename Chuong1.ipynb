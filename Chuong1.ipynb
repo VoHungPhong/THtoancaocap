{
  "nbformat": 4,
  "nbformat_minor": 0,
  "metadata": {
    "colab": {
      "name": "Chuong1.ipynb",
      "provenance": [],
      "authorship_tag": "ABX9TyO8xL2mrniIaTu+epRf/HxT",
      "include_colab_link": true
    },
    "kernelspec": {
      "name": "python3",
      "display_name": "Python 3"
    },
    "language_info": {
      "name": "python"
    }
  },
  "cells": [
    {
      "cell_type": "markdown",
      "metadata": {
        "id": "view-in-github",
        "colab_type": "text"
      },
      "source": [
        "<a href=\"https://colab.research.google.com/github/VoHungPhong/THtoancaocap/blob/main/Chuong1.ipynb\" target=\"_parent\"><img src=\"https://colab.research.google.com/assets/colab-badge.svg\" alt=\"Open In Colab\"/></a>"
      ]
    },
    {
      "cell_type": "code",
      "execution_count": 1,
      "metadata": {
        "colab": {
          "base_uri": "https://localhost:8080/"
        },
        "id": "P2-q1j5WpzOo",
        "outputId": "8f98a462-b2c8-427e-84db-5813c379a0c7"
      },
      "outputs": [
        {
          "output_type": "stream",
          "name": "stdout",
          "text": [
            "hello\n"
          ]
        }
      ],
      "source": [
        "print(\"hello\")"
      ]
    },
    {
      "cell_type": "markdown",
      "source": [
        "#Bai1"
      ],
      "metadata": {
        "id": "2BtbteKOxOlC"
      }
    },
    {
      "cell_type": "code",
      "source": [
        ""
      ],
      "metadata": {
        "id": "l5QSgpp9_mha"
      },
      "execution_count": null,
      "outputs": []
    },
    {
      "cell_type": "code",
      "source": [
        "N=5\n",
        "dayS=[1/2**k for k in range(0,N)]\n"
      ],
      "metadata": {
        "id": "Iyb4pcxnxVNd"
      },
      "execution_count": 3,
      "outputs": []
    },
    {
      "cell_type": "code",
      "source": [
        "len(dayS)"
      ],
      "metadata": {
        "id": "K34OKVHDyF6q"
      },
      "execution_count": null,
      "outputs": []
    },
    {
      "cell_type": "code",
      "source": [
        "sum(dayS)"
      ],
      "metadata": {
        "id": "m7cUnT2DyP01"
      },
      "execution_count": null,
      "outputs": []
    },
    {
      "cell_type": "code",
      "source": [
        "n=1000\n",
        "X= [(2-0)*k/n for k in  range(0,n+1)]\n",
        "print(X)"
      ],
      "metadata": {
        "id": "-V8EXiKb2TtB"
      },
      "execution_count": null,
      "outputs": []
    },
    {
      "cell_type": "code",
      "source": [
        "S=0\n",
        "for k in range(1,n+1):\n",
        "  S=S+X[k]**2 * (X[k] - X[k-1])\n",
        "  print(S)\n"
      ],
      "metadata": {
        "id": "tIfy1AN92xvI"
      },
      "execution_count": null,
      "outputs": []
    }
  ]
}