{
  "nbformat": 4,
  "nbformat_minor": 0,
  "metadata": {
    "colab": {
      "name": "chuong7.ipynb",
      "provenance": [],
      "authorship_tag": "ABX9TyMjqRAWfta1mQOlo9UybBsF",
      "include_colab_link": true
    },
    "kernelspec": {
      "name": "python3",
      "display_name": "Python 3"
    },
    "language_info": {
      "name": "python"
    }
  },
  "cells": [
    {
      "cell_type": "markdown",
      "metadata": {
        "id": "view-in-github",
        "colab_type": "text"
      },
      "source": [
        "<a href=\"https://colab.research.google.com/github/VoHungPhong/THtoancaocap/blob/main/chuong7.ipynb\" target=\"_parent\"><img src=\"https://colab.research.google.com/assets/colab-badge.svg\" alt=\"Open In Colab\"/></a>"
      ]
    },
    {
      "cell_type": "code",
      "execution_count": 4,
      "metadata": {
        "colab": {
          "base_uri": "https://localhost:8080/",
          "height": 37
        },
        "id": "ijupBGicGywT",
        "outputId": "7d52fca4-bb73-41a3-f866-43479e50b0da"
      },
      "outputs": [
        {
          "output_type": "execute_result",
          "data": {
            "text/plain": [
              "oo"
            ],
            "text/latex": "$\\displaystyle \\infty$"
          },
          "metadata": {},
          "execution_count": 4
        }
      ],
      "source": [
        "from sympy import Symbol , Integral\n",
        "x = Symbol(\"x\")\n",
        "f = 1.0/x\n",
        "unbound1 = Integral(f,(x,0,2))\n",
        "unbound1.doit()"
      ]
    },
    {
      "cell_type": "markdown",
      "source": [
        "TH2"
      ],
      "metadata": {
        "id": "Ku0cx3mkJpLg"
      }
    },
    {
      "cell_type": "code",
      "source": [
        "from sympy import Symbol , Integral\n",
        "x = Symbol(\"x\")\n",
        "f = 1.0/x**2\n",
        "unbound2 = Integral(f,(x,0-1,1))\n",
        "unbound2.doit()"
      ],
      "metadata": {
        "colab": {
          "base_uri": "https://localhost:8080/",
          "height": 37
        },
        "id": "wYUpKkatIhwX",
        "outputId": "ec0c864e-4515-4f6a-b19b-8a1a0a714d67"
      },
      "execution_count": 6,
      "outputs": [
        {
          "output_type": "execute_result",
          "data": {
            "text/plain": [
              "oo"
            ],
            "text/latex": "$\\displaystyle \\infty$"
          },
          "metadata": {},
          "execution_count": 6
        }
      ]
    },
    {
      "cell_type": "markdown",
      "source": [
        "TH4"
      ],
      "metadata": {
        "id": "6yhnCcgLJsp2"
      }
    },
    {
      "cell_type": "code",
      "source": [
        "from sympy import Symbol , Integral \n",
        "x=Symbol('x')\n",
        "f=x**(0.5)\n",
        "undef1=Integral(f,(x,-1,1))\n",
        "undef1.doit()"
      ],
      "metadata": {
        "colab": {
          "base_uri": "https://localhost:8080/",
          "height": 38
        },
        "id": "y3Y0LGe6IUjd",
        "outputId": "9a9f6d6b-0553-4526-d3a5-c32b46a4c325"
      },
      "execution_count": 9,
      "outputs": [
        {
          "output_type": "execute_result",
          "data": {
            "text/plain": [
              "0.666666666666667 + 0.666666666666667*I"
            ],
            "text/latex": "$\\displaystyle 0.666666666666667 + 0.666666666666667 i$"
          },
          "metadata": {},
          "execution_count": 9
        }
      ]
    },
    {
      "cell_type": "markdown",
      "source": [
        "TH3"
      ],
      "metadata": {
        "id": "pLG1UL3MKIVH"
      }
    },
    {
      "cell_type": "code",
      "source": [
        "from sympy import Symbol , Integral , Abs\n",
        "x=Symbol('x')\n",
        "f=Abs(x)\n",
        "discontinous1=Integral(f,(x,-1,2))\n",
        "discontinous1.doit()\n"
      ],
      "metadata": {
        "colab": {
          "base_uri": "https://localhost:8080/",
          "height": 51
        },
        "id": "z5ZbL79mKSG2",
        "outputId": "bb313e8d-5954-4d9b-91c6-ebdbc45bb877"
      },
      "execution_count": 10,
      "outputs": [
        {
          "output_type": "execute_result",
          "data": {
            "text/plain": [
              "5/2"
            ],
            "text/latex": "$\\displaystyle \\frac{5}{2}$"
          },
          "metadata": {},
          "execution_count": 10
        }
      ]
    },
    {
      "cell_type": "markdown",
      "source": [
        "TH5"
      ],
      "metadata": {
        "id": "OwRKZbODK1UO"
      }
    },
    {
      "cell_type": "code",
      "source": [
        "from scipy import integrate\n",
        "import numpy as np\n",
        "y=np.array([0.0,4.1,8.9,8.5,6.7,4.3,2.5,1.2,0.2])\n",
        "x=np.arange(0,9)\n",
        "integrate.simps(y,x)"
      ],
      "metadata": {
        "colab": {
          "base_uri": "https://localhost:8080/"
        },
        "id": "zcpJr6ZcK3c1",
        "outputId": "ba6567cc-103e-4f70-fce3-cd50c46546c9"
      },
      "execution_count": 15,
      "outputs": [
        {
          "output_type": "execute_result",
          "data": {
            "text/plain": [
              "36.26666666666666"
            ]
          },
          "metadata": {},
          "execution_count": 15
        }
      ]
    },
    {
      "cell_type": "code",
      "source": [
        "S=2*integrate.simps(y,x)"
      ],
      "metadata": {
        "id": "lAXhKpguMgvX"
      },
      "execution_count": 16,
      "outputs": []
    },
    {
      "cell_type": "code",
      "source": [
        "A=5.5\n",
        "F=A/S*60"
      ],
      "metadata": {
        "id": "VbD6vyHvMnXi"
      },
      "execution_count": 17,
      "outputs": []
    }
  ]
}