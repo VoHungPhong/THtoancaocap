{
  "nbformat": 4,
  "nbformat_minor": 0,
  "metadata": {
    "colab": {
      "name": "Chuong2.ipynb",
      "provenance": [],
      "authorship_tag": "ABX9TyN6N1s5ikom6qqDGDwNr9sg",
      "include_colab_link": true
    },
    "kernelspec": {
      "name": "python3",
      "display_name": "Python 3"
    },
    "language_info": {
      "name": "python"
    }
  },
  "cells": [
    {
      "cell_type": "markdown",
      "metadata": {
        "id": "view-in-github",
        "colab_type": "text"
      },
      "source": [
        "<a href=\"https://colab.research.google.com/github/VoHungPhong/THtoancaocap/blob/main/Chuong2.ipynb\" target=\"_parent\"><img src=\"https://colab.research.google.com/assets/colab-badge.svg\" alt=\"Open In Colab\"/></a>"
      ]
    },
    {
      "cell_type": "code",
      "execution_count": 1,
      "metadata": {
        "colab": {
          "base_uri": "https://localhost:8080/"
        },
        "id": "yYDgTXYErtYD",
        "outputId": "45a7e470-d975-42cf-f384-b3638656490e"
      },
      "outputs": [
        {
          "output_type": "execute_result",
          "data": {
            "text/plain": [
              "18"
            ]
          },
          "metadata": {},
          "execution_count": 1
        }
      ],
      "source": [
        "chuongtinhtoan=\"a*b+c\"\n",
        "a=2\n",
        "b=5\n",
        "c=8\n",
        "eval(chuongtinhtoan)\n"
      ]
    },
    {
      "cell_type": "code",
      "source": [
        "  from sympy import Symbol\n",
        "  x =Symbol('x')\n",
        "  y =Symbol('y')\n",
        "  bieuthuc=x+y\n",
        "  "
      ],
      "metadata": {
        "id": "qcQHW11v4X5G"
      },
      "execution_count": 19,
      "outputs": []
    },
    {
      "cell_type": "code",
      "source": [
        "  thaytheso=bieuthuc.subs({x:10,y:5})\n",
        "  thaytheso"
      ],
      "metadata": {
        "colab": {
          "base_uri": "https://localhost:8080/",
          "height": 37
        },
        "id": "_z51UlTO-M8D",
        "outputId": "9e816a2d-004a-4c95-94c4-b7dd046cda84"
      },
      "execution_count": 21,
      "outputs": [
        {
          "output_type": "execute_result",
          "data": {
            "text/latex": "$\\displaystyle 15$",
            "text/plain": [
              "15"
            ]
          },
          "metadata": {},
          "execution_count": 21
        }
      ]
    },
    {
      "cell_type": "code",
      "source": [
        "u=Symbol('u')\n",
        "v=Symbol('v')\n",
        "bieuthuc_theo_uv=bieuthuc.subs({x:u,y:v})\n",
        "bieuthuc_theo_uv"
      ],
      "metadata": {
        "colab": {
          "base_uri": "https://localhost:8080/",
          "height": 38
        },
        "id": "5Od6Jv4P5zJa",
        "outputId": "07369e44-12b6-4407-e946-a5e60193007c"
      },
      "execution_count": 18,
      "outputs": [
        {
          "output_type": "execute_result",
          "data": {
            "text/latex": "$\\displaystyle u + v$",
            "text/plain": [
              "u + v"
            ]
          },
          "metadata": {},
          "execution_count": 18
        }
      ]
    },
    {
      "cell_type": "code",
      "source": [
        "  thaythe_tinhtoan=bieuthuc.subs({x:2*u*v,y:u**2+v**2})\n",
        "  thaythe_tinhtoan\n",
        "  thaythe_tinhtoan.factor()"
      ],
      "metadata": {
        "colab": {
          "base_uri": "https://localhost:8080/",
          "height": 39
        },
        "id": "30hByS8v9XYo",
        "outputId": "3d73e8ca-fda1-4d7c-874b-84fe6b2df81f"
      },
      "execution_count": 24,
      "outputs": [
        {
          "output_type": "execute_result",
          "data": {
            "text/latex": "$\\displaystyle \\left(u + v\\right)^{2}$",
            "text/plain": [
              "(u + v)**2"
            ]
          },
          "metadata": {},
          "execution_count": 24
        }
      ]
    },
    {
      "cell_type": "code",
      "source": [
        " \n",
        "   from sympy import Symbol\n",
        "  x =Symbol('x')\n",
        "  y =Symbol('y')"
      ],
      "metadata": {
        "id": "BGndHZTS_KlC"
      },
      "execution_count": 34,
      "outputs": []
    },
    {
      "cell_type": "code",
      "source": [
        "bieuthuc=x+y\n",
        "bieuthuc2=x**2+y**2\n"
      ],
      "metadata": {
        "id": "RUdtOFs-_Q85"
      },
      "execution_count": 35,
      "outputs": []
    },
    {
      "cell_type": "code",
      "source": [
        "  u=Symbol('u')\n",
        "  v=Symbol('v')\n",
        "  a=Symbol('a')\n",
        "  from sympy import sin,cos\n",
        "  \n"
      ],
      "metadata": {
        "id": "ZyOVhguCAEx3"
      },
      "execution_count": 33,
      "outputs": []
    },
    {
      "cell_type": "code",
      "source": [
        "  bieuthuc_theo_uv=bieuthuc2.subs({x:a*sin(u),y=a*cos(u)})\n",
        "  bieuthuc_theo_uv"
      ],
      "metadata": {
        "colab": {
          "base_uri": "https://localhost:8080/",
          "height": 130
        },
        "id": "zh3PCRK1Ae-N",
        "outputId": "42acdf29-b426-484d-8906-73c4bec50ec8"
      },
      "execution_count": 31,
      "outputs": [
        {
          "output_type": "error",
          "ename": "SyntaxError",
          "evalue": "ignored",
          "traceback": [
            "\u001b[0;36m  File \u001b[0;32m\"<ipython-input-31-129ed2eb8593>\"\u001b[0;36m, line \u001b[0;32m1\u001b[0m\n\u001b[0;31m    bieuthuc_theo_uv=bieuthuc2.subs({x:a*sin(u),y=a*cos(u)})\u001b[0m\n\u001b[0m                                                 ^\u001b[0m\n\u001b[0;31mSyntaxError\u001b[0m\u001b[0;31m:\u001b[0m invalid syntax\n"
          ]
        }
      ]
    },
    {
      "cell_type": "code",
      "source": [
        "danhsach_so = [10,15,20]\n",
        "danhsach_so[0]"
      ],
      "metadata": {
        "colab": {
          "base_uri": "https://localhost:8080/"
        },
        "id": "HT7EauvN7YT9",
        "outputId": "94b51663-4472-4bba-9ee8-948dad397a21"
      },
      "execution_count": 10,
      "outputs": [
        {
          "output_type": "execute_result",
          "data": {
            "text/plain": [
              "10"
            ]
          },
          "metadata": {},
          "execution_count": 10
        }
      ]
    },
    {
      "cell_type": "code",
      "source": [
        "danhsach_so[1]"
      ],
      "metadata": {
        "colab": {
          "base_uri": "https://localhost:8080/"
        },
        "id": "fvuNvy_n7e2A",
        "outputId": "201c1c33-d0d1-4284-957d-2e75c72f2367"
      },
      "execution_count": 11,
      "outputs": [
        {
          "output_type": "execute_result",
          "data": {
            "text/plain": [
              "15"
            ]
          },
          "metadata": {},
          "execution_count": 11
        }
      ]
    },
    {
      "cell_type": "code",
      "source": [
        "danhsach_so[2]"
      ],
      "metadata": {
        "colab": {
          "base_uri": "https://localhost:8080/"
        },
        "id": "Zng0hrYx7iWG",
        "outputId": "0d14d547-7df5-4ff6-85bc-5ef74f8b479b"
      },
      "execution_count": 12,
      "outputs": [
        {
          "output_type": "execute_result",
          "data": {
            "text/plain": [
              "20"
            ]
          },
          "metadata": {},
          "execution_count": 12
        }
      ]
    },
    {
      "cell_type": "code",
      "source": [
        "ds = [1,2,3]\n",
        "for so in ds:\n",
        "  print(so)"
      ],
      "metadata": {
        "colab": {
          "base_uri": "https://localhost:8080/"
        },
        "id": "VSc8eT4t7pF6",
        "outputId": "94bbf690-2e27-44d8-fa4d-a89041b3e6ef"
      },
      "execution_count": 13,
      "outputs": [
        {
          "output_type": "stream",
          "name": "stdout",
          "text": [
            "1\n",
            "2\n",
            "3\n"
          ]
        }
      ]
    },
    {
      "cell_type": "code",
      "source": [
        "ds=[10,11,12]\n",
        "for chiso, giatri in enumerate(ds):\n",
        "  print(chiso,giatri)"
      ],
      "metadata": {
        "colab": {
          "base_uri": "https://localhost:8080/"
        },
        "id": "09aRkNXt8RdS",
        "outputId": "89cfcfd6-248d-438d-8dc4-7b1a72f7ba45"
      },
      "execution_count": 14,
      "outputs": [
        {
          "output_type": "stream",
          "name": "stdout",
          "text": [
            "0 10\n",
            "1 11\n",
            "2 12\n"
          ]
        }
      ]
    }
  ]
}