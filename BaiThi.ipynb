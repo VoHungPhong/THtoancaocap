{
  "nbformat": 4,
  "nbformat_minor": 0,
  "metadata": {
    "colab": {
      "name": "Untitled1.ipynb",
      "provenance": [],
      "authorship_tag": "ABX9TyM26KP18Vi5lfLb3qtLZViW",
      "include_colab_link": true
    },
    "kernelspec": {
      "name": "python3",
      "display_name": "Python 3"
    },
    "language_info": {
      "name": "python"
    }
  },
  "cells": [
    {
      "cell_type": "markdown",
      "metadata": {
        "id": "view-in-github",
        "colab_type": "text"
      },
      "source": [
        "<a href=\"https://colab.research.google.com/github/VoHungPhong/THtoancaocap/blob/main/BaiThi.ipynb\" target=\"_parent\"><img src=\"https://colab.research.google.com/assets/colab-badge.svg\" alt=\"Open In Colab\"/></a>"
      ]
    },
    {
      "cell_type": "markdown",
      "source": [
        "1.1"
      ],
      "metadata": {
        "id": "f_znkAWkX7G_"
      }
    },
    {
      "cell_type": "code",
      "source": [
        "from sympy import integral, Symbol\n",
        "x=Symbol('x')\n"
      ],
      "metadata": {
        "id": "nVxZgTThX8sp"
      },
      "execution_count": null,
      "outputs": []
    },
    {
      "cell_type": "markdown",
      "source": [
        "2.2"
      ],
      "metadata": {
        "id": "r50SNj5SdHPl"
      }
    },
    {
      "cell_type": "code",
      "source": [
        "from sympy import Derivative, Symbol\n",
        "x=Symbol('x')\n",
        "f=(2*x-1)/(x+2)\n",
        "Derivative(f,x).doit()"
      ],
      "metadata": {
        "colab": {
          "base_uri": "https://localhost:8080/",
          "height": 58
        },
        "id": "c0WFQO9xdJYL",
        "outputId": "945d99e2-904c-4b55-de00-075cb999b35a"
      },
      "execution_count": 15,
      "outputs": [
        {
          "output_type": "execute_result",
          "data": {
            "text/plain": [
              "2/(x + 2) - (2*x - 1)/(x + 2)**2"
            ],
            "text/latex": "$\\displaystyle \\frac{2}{x + 2} - \\frac{2 x - 1}{\\left(x + 2\\right)^{2}}$"
          },
          "metadata": {},
          "execution_count": 15
        }
      ]
    },
    {
      "cell_type": "markdown",
      "source": [
        "3.3"
      ],
      "metadata": {
        "id": "Ub8Q4FrdZD4j"
      }
    },
    {
      "cell_type": "code",
      "source": [
        "from sympy import Symbol,sin\n",
        "x=Symbol('x')\n",
        "Limit(x*x*sin(1/2),x,0).doit()"
      ],
      "metadata": {
        "colab": {
          "base_uri": "https://localhost:8080/",
          "height": 37
        },
        "id": "0DvUbBaaZGa5",
        "outputId": "9386d5b9-7197-415b-a783-faeadf857902"
      },
      "execution_count": 10,
      "outputs": [
        {
          "output_type": "execute_result",
          "data": {
            "text/plain": [
              "0"
            ],
            "text/latex": "$\\displaystyle 0$"
          },
          "metadata": {},
          "execution_count": 10
        }
      ]
    },
    {
      "cell_type": "markdown",
      "source": [
        "3.5"
      ],
      "metadata": {
        "id": "5D9Q70mObz9Y"
      }
    },
    {
      "cell_type": "code",
      "source": [
        "\n",
        "from sympy import Symbol, limit\n",
        "x= Symbol('x')\n",
        "limit((1+x+x*x+x*x*x)/(1+x), x, 0, dir='+'). doit()"
      ],
      "metadata": {
        "colab": {
          "base_uri": "https://localhost:8080/",
          "height": 37
        },
        "id": "gVgw2lNgb1DM",
        "outputId": "5d1febfd-87a5-4d4b-a6a0-2bc57d147c6f"
      },
      "execution_count": 20,
      "outputs": [
        {
          "output_type": "execute_result",
          "data": {
            "text/plain": [
              "1"
            ],
            "text/latex": "$\\displaystyle 1$"
          },
          "metadata": {},
          "execution_count": 20
        }
      ]
    }
  ]
}